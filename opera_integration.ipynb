{
 "cells": [
  {
   "cell_type": "markdown",
   "source": [
    "# Integrating with OPERA's ISCE3 s1-reader"
   ],
   "metadata": {
    "collapsed": false,
    "pycharm": {
     "name": "#%% md\n"
    }
   }
  },
  {
   "cell_type": "markdown",
   "source": [
    "This notebook requires `isce3`, and `s1-reader` to be installed as well as the rest of the packages listed in `requirements.txt`. Install using these commands:\n",
    "```bash\n",
    "conda install -c conda-forge isce3\n",
    "conda install -c conda-forge backoff\n",
    "\n",
    "git clone https://github.com/opera-adt/s1-reader.git\n",
    "python -m pip install -e s1-reader\n",
    "```"
   ],
   "metadata": {
    "collapsed": false,
    "pycharm": {
     "name": "#%% md\n"
    }
   }
  },
  {
   "cell_type": "code",
   "execution_count": null,
   "metadata": {
    "collapsed": true,
    "pycharm": {
     "name": "#%%\n"
    }
   },
   "outputs": [],
   "source": [
    "%load_ext autoreload\n",
    "%autoreload 2\n",
    "from pathlib import Path\n",
    "import xml.etree.ElementTree as ET\n",
    "import datetime\n",
    "\n",
    "import isce3\n",
    "import s1reader\n",
    "from s1reader import Sentinel1BurstSlc\n",
    "import bursts"
   ]
  },
  {
   "cell_type": "code",
   "execution_count": null,
   "outputs": [],
   "source": [
    "INTERNATIONAL_IDS = {'S1A': ' 2014-016A', 'S1B': '2016-025A'}\n",
    "zip_path = Path('../example_data/S1B_IW_SLC__1SDV_20210131T151555_20210131T151621_025400_03067B_415D.zip')\n",
    "url_path = 'https://datapool.asf.alaska.edu/SLC/SB/S1B_IW_SLC__1SDV_20210131T151555_20210131T151621_025400_03067B_415D.zip'\n",
    "safe_name = zip_path.with_suffix('.SAFE').name\n",
    "swath_num = 1\n",
    "pol = \"VV\"\n",
    "\n",
    "orbit_dir = Path('../example_data/sentinel1_orbits')\n",
    "if not orbit_dir.is_dir():\n",
    "    orbit_dir.mkdir()"
   ],
   "metadata": {
    "collapsed": false,
    "pycharm": {
     "name": "#%%\n"
    }
   }
  },
  {
   "cell_type": "code",
   "execution_count": null,
   "outputs": [],
   "source": [
    "s1reader.s1_orbit.download_orbit(safe_name,orbit_dir)"
   ],
   "metadata": {
    "collapsed": false,
    "pycharm": {
     "name": "#%%\n"
    }
   }
  },
  {
   "cell_type": "markdown",
   "source": [
    "## Opera Workflow"
   ],
   "metadata": {
    "collapsed": false,
    "pycharm": {
     "name": "#%% md\n"
    }
   }
  },
  {
   "cell_type": "code",
   "execution_count": null,
   "outputs": [],
   "source": [
    "orbit_path = s1reader.get_orbit_file_from_dir(zip_path, orbit_dir)"
   ],
   "metadata": {
    "collapsed": false,
    "pycharm": {
     "name": "#%%\n"
    }
   }
  },
  {
   "cell_type": "code",
   "execution_count": null,
   "outputs": [],
   "source": [
    "# returns the list of the bursts\n",
    "opera_burst_items = s1reader.load_bursts(zip_path, orbit_path, swath_num, pol)\n",
    "opera_burst_ids = [x.burst_id for x in opera_burst_items]\n",
    "opera_burst = opera_burst_items[0]"
   ],
   "metadata": {
    "collapsed": false,
    "pycharm": {
     "name": "#%%\n"
    }
   }
  },
  {
   "cell_type": "code",
   "execution_count": null,
   "outputs": [],
   "source": [
    "opera_burst"
   ],
   "metadata": {
    "collapsed": false,
    "pycharm": {
     "name": "#%%\n"
    }
   }
  },
  {
   "cell_type": "code",
   "execution_count": null,
   "outputs": [],
   "source": [
    "opera_dict = opera_burst.__dict__"
   ],
   "metadata": {
    "collapsed": false,
    "pycharm": {
     "name": "#%%\n"
    }
   }
  },
  {
   "cell_type": "markdown",
   "source": [
    "## Now with ASF package"
   ],
   "metadata": {
    "collapsed": false,
    "pycharm": {
     "name": "#%% md\n"
    }
   }
  },
  {
   "cell_type": "code",
   "execution_count": null,
   "outputs": [],
   "source": [
    "auth = bursts.get_netrc_auth()\n",
    "manifest, annotations = bursts.edl_download_metadata(url_path, auth)"
   ],
   "metadata": {
    "collapsed": false,
    "pycharm": {
     "name": "#%%\n"
    }
   }
  },
  {
   "cell_type": "code",
   "execution_count": null,
   "outputs": [],
   "source": [
    "slc = bursts.SLCMetadata(url_path, manifest, annotations)\n",
    "swath = bursts.SwathMetadata(slc, pol, swath_index=swath_num - 1)\n",
    "asf_burst_list = [bursts.BurstMetadata(swath, x) for x in range(swath.n_bursts)]\n",
    "asf_burst = asf_burst_list[0]\n",
    "item = asf_burst.to_stac_item()"
   ],
   "metadata": {
    "collapsed": false,
    "pycharm": {
     "name": "#%%\n"
    }
   }
  },
  {
   "cell_type": "code",
   "execution_count": null,
   "outputs": [],
   "source": [
    "asf_burst = bursts.stac_item_to_opera_burst(item,'VV',orbit_dir)"
   ],
   "metadata": {
    "collapsed": false,
    "pycharm": {
     "name": "#%%\n"
    }
   }
  },
  {
   "cell_type": "code",
   "execution_count": null,
   "outputs": [],
   "source": [
    "asf_dict = asf_burst.__dict__"
   ],
   "metadata": {
    "collapsed": false,
    "pycharm": {
     "name": "#%%\n"
    }
   }
  },
  {
   "cell_type": "code",
   "execution_count": null,
   "outputs": [],
   "source": [
    "[x for x in asf_dict if not opera_dict[x]]"
   ],
   "metadata": {
    "collapsed": false,
    "pycharm": {
     "name": "#%%\n"
    }
   }
  },
  {
   "cell_type": "code",
   "execution_count": null,
   "outputs": [],
   "source": [
    "[x for x in asf_dict if type(asf_dict[x]) != type(opera_dict[x])]"
   ],
   "metadata": {
    "collapsed": false,
    "pycharm": {
     "name": "#%%\n"
    }
   }
  },
  {
   "cell_type": "code",
   "execution_count": null,
   "outputs": [],
   "source": [
    "# attributes in oks don't work correctly when comparing with ==\n",
    "oks = ['azimuth_fm_rate','doppler','orbit', 'center', 'border','tiff_path']\n",
    "\n",
    "[x for x in asf_dict if (asf_dict[x] != opera_dict[x]) & (x not in oks)]"
   ],
   "metadata": {
    "collapsed": false,
    "pycharm": {
     "name": "#%%\n"
    }
   }
  },
  {
   "cell_type": "markdown",
   "source": [
    "Tada! Check out the `example.ipynb` to see how we can download a burst's data directly using the information contained in a burst STAC item."
   ],
   "metadata": {
    "collapsed": false,
    "pycharm": {
     "name": "#%% md\n"
    }
   }
  },
  {
   "cell_type": "markdown",
   "source": [
    "## Download data with RemoteSentinel1BurstSLC class"
   ],
   "metadata": {
    "collapsed": false,
    "pycharm": {
     "name": "#%% md\n"
    }
   }
  },
  {
   "cell_type": "code",
   "execution_count": null,
   "outputs": [],
   "source": [
    "asf_burst = bursts.stac_item_to_opera_burst(item,'VV',orbit_dir, remote=True)"
   ],
   "metadata": {
    "collapsed": false,
    "pycharm": {
     "name": "#%%\n"
    }
   }
  },
  {
   "cell_type": "code",
   "execution_count": null,
   "outputs": [],
   "source": [
    "asf_burst.tiff_path, asf_burst.url_path"
   ],
   "metadata": {
    "collapsed": false,
    "pycharm": {
     "name": "#%%\n"
    }
   }
  },
  {
   "cell_type": "code",
   "execution_count": null,
   "outputs": [],
   "source": [
    "# download into memory\n",
    "array = asf_burst.edl_download_data()\n",
    "array.shape"
   ],
   "metadata": {
    "collapsed": false,
    "pycharm": {
     "name": "#%%\n"
    }
   }
  },
  {
   "cell_type": "code",
   "execution_count": null,
   "outputs": [],
   "source": [
    "# download to file\n",
    "asf_burst.slc_to_file('./test.bin', fmt='ENVI')"
   ],
   "metadata": {
    "collapsed": false,
    "pycharm": {
     "name": "#%%\n"
    }
   }
  },
  {
   "cell_type": "code",
   "execution_count": null,
   "outputs": [],
   "source": [
    "asf_burst.tiff_path"
   ],
   "metadata": {
    "collapsed": false,
    "pycharm": {
     "name": "#%%\n"
    }
   }
  },
  {
   "cell_type": "code",
   "execution_count": null,
   "outputs": [],
   "source": [
    "!gdalinfo test.bin"
   ],
   "metadata": {
    "collapsed": false,
    "pycharm": {
     "name": "#%%\n"
    }
   }
  },
  {
   "cell_type": "code",
   "execution_count": null,
   "outputs": [],
   "source": [],
   "metadata": {
    "collapsed": false,
    "pycharm": {
     "name": "#%%\n"
    }
   }
  }
 ],
 "metadata": {
  "kernelspec": {
   "display_name": "Python 3",
   "language": "python",
   "name": "python3"
  },
  "language_info": {
   "codemirror_mode": {
    "name": "ipython",
    "version": 2
   },
   "file_extension": ".py",
   "mimetype": "text/x-python",
   "name": "python",
   "nbconvert_exporter": "python",
   "pygments_lexer": "ipython2",
   "version": "2.7.6"
  }
 },
 "nbformat": 4,
 "nbformat_minor": 0
}