{
 "cells": [
  {
   "cell_type": "markdown",
   "source": [
    "# A prototype workflow for geo-referenced burst (STAC)ks"
   ],
   "metadata": {
    "collapsed": false,
    "pycharm": {
     "name": "#%% md\n"
    }
   }
  },
  {
   "cell_type": "code",
   "execution_count": 1,
   "metadata": {
    "collapsed": true,
    "pycharm": {
     "name": "#%%\n"
    }
   },
   "outputs": [],
   "source": [
    "%load_ext autoreload\n",
    "%autoreload 2\n",
    "\n",
    "import bursts\n",
    "import requests\n",
    "import json"
   ]
  },
  {
   "cell_type": "code",
   "execution_count": 2,
   "outputs": [],
   "source": [
    "asf_url = 'https://datapool.asf.alaska.edu/SLC/SB/S1B_IW_SLC__1SDV_20211111T002553_20211111T002623_029532_038657_AB46.zip'"
   ],
   "metadata": {
    "collapsed": false,
    "pycharm": {
     "name": "#%%\n"
    }
   }
  },
  {
   "cell_type": "code",
   "execution_count": 3,
   "outputs": [],
   "source": [
    "auth = bursts.get_netrc_auth()\n",
    "manifest, annotations = bursts.edl_download_metadata(asf_url, auth)"
   ],
   "metadata": {
    "collapsed": false,
    "pycharm": {
     "name": "#%%\n"
    }
   }
  },
  {
   "cell_type": "code",
   "execution_count": 4,
   "outputs": [
    {
     "data": {
      "text/plain": "{'stack_id': '227662_IW1',\n 'wavelength': 0.05546576,\n 'azimuth_steer_rate': 0.027757171601738514,\n 'azimuth_time_interval': 0.002055556299999998,\n 'slant_range_time': 0.005333045065152919,\n 'starting_range': 799403.3443534819,\n 'iw2_mid_range': 874424.562695774,\n 'range_sampling_rate': 64345238.12571428,\n 'range_pixel_spacing': 2.329562114715323,\n 'azimuth_frame_rate': [[-2342.716413896163,\n   444057.7084195721,\n   -76224144.70273802],\n  799403.3443534819,\n  149896229.0],\n 'doppler': [[22.80343, -4413.131, 6412146.0], 799782.3973890148, 149896229.0],\n 'range_bandwidth': 56500000.0,\n 'opera_id': 't106_227662_iw1',\n 'center': (-92.26922797992722, -2.3030497747689522),\n 'burst_index': 0,\n 'first_valid_sample': 162,\n 'last_valid_sample': 20589,\n 'first_valid_line': 18,\n 'last_valid_line': 1471,\n 'range_window_type': 'hamming',\n 'range_window_coefficient': 0.75,\n 'rank': 9,\n 'prf_raw_data': 1717.128973878037,\n 'range_chirp_rate': 1078230321255.894,\n 'sat:platform_international_designator': '2016-025A',\n 'sat:orbit_state': 'ascending',\n 'sat:absolute_orbit': 29532,\n 'sat:relative_orbit': 106,\n 'sat:anx_datetime': '2021-11-11T00:25:53.695739Z',\n 'sar:instrument_mode': 'IW',\n 'sar:frequency_band': 'C',\n 'sar:polarizations': ['VV'],\n 'sar:product_type': 'SLC-BURST',\n 'sar:center_frequency': 5405000454.33435,\n 'sar:looks_range': 1,\n 'sar:looks_azimuth': 1,\n 'sar:observation_direction': 'right'}"
     },
     "execution_count": 4,
     "metadata": {},
     "output_type": "execute_result"
    }
   ],
   "source": [
    "slc = bursts.SLCMetadata(asf_url, manifest, annotations)\n",
    "swath = bursts.SwathMetadata(slc,'vv',swath_index=0)\n",
    "burst = bursts.BurstMetadata(swath,burst_index=0)\n",
    "item = burst.to_stac_item()\n",
    "item.properties"
   ],
   "metadata": {
    "collapsed": false,
    "pycharm": {
     "name": "#%%\n"
    }
   }
  },
  {
   "cell_type": "code",
   "execution_count": 5,
   "outputs": [
    {
     "data": {
      "text/plain": "['https://schemas.stacspec.org/v1.0.0/item-spec/json-schema/item.json',\n 'https://stac-extensions.github.io/sat/v1.0.0/schema.json',\n 'https://stac-extensions.github.io/sar/v1.0.0/schema.json']"
     },
     "execution_count": 5,
     "metadata": {},
     "output_type": "execute_result"
    }
   ],
   "source": [
    "item.validate()"
   ],
   "metadata": {
    "collapsed": false,
    "pycharm": {
     "name": "#%%\n"
    }
   }
  },
  {
   "cell_type": "code",
   "execution_count": 6,
   "outputs": [
    {
     "data": {
      "text/plain": "10"
     },
     "execution_count": 6,
     "metadata": {},
     "output_type": "execute_result"
    }
   ],
   "source": [
    "catalog_url = 'https://cmr.uat.earthdata.nasa.gov/search/granules.umm_json?short_name=S1_SLC_BURSTS'\n",
    "catalog = json.loads(requests.get(catalog_url).content)\n",
    "len(catalog['items'])"
   ],
   "metadata": {
    "collapsed": false,
    "pycharm": {
     "name": "#%%\n"
    }
   }
  },
  {
   "cell_type": "code",
   "execution_count": 7,
   "outputs": [
    {
     "data": {
      "text/plain": "['https://cmr.uat.earthdata.nasa.gov/search/granules.umm_json?short_name=S1_SLC_BURSTS&granule_ur=S1_SLC_20211111T002553_VH_227662_IW1',\n 'https://cmr.uat.earthdata.nasa.gov/search/granules.umm_json?short_name=S1_SLC_BURSTS&granule_ur=S1_SLC_20211111T002553_VV_227662_IW1',\n 'https://cmr.uat.earthdata.nasa.gov/search/granules.umm_json?short_name=S1_SLC_BURSTS&granule_ur=S1_SLC_20211111T002554_VH_227662_IW2',\n 'https://cmr.uat.earthdata.nasa.gov/search/granules.umm_json?short_name=S1_SLC_BURSTS&granule_ur=S1_SLC_20211111T002554_VV_227662_IW2',\n 'https://cmr.uat.earthdata.nasa.gov/search/granules.umm_json?short_name=S1_SLC_BURSTS&granule_ur=S1_SLC_20211111T002555_VH_227663_IW3',\n 'https://cmr.uat.earthdata.nasa.gov/search/granules.umm_json?short_name=S1_SLC_BURSTS&granule_ur=S1_SLC_20211111T002555_VV_227663_IW3',\n 'https://cmr.uat.earthdata.nasa.gov/search/granules.umm_json?short_name=S1_SLC_BURSTS&granule_ur=S1_SLC_20211111T002556_VH_227663_IW1',\n 'https://cmr.uat.earthdata.nasa.gov/search/granules.umm_json?short_name=S1_SLC_BURSTS&granule_ur=S1_SLC_20211111T002556_VV_227663_IW1',\n 'https://cmr.uat.earthdata.nasa.gov/search/granules.umm_json?short_name=S1_SLC_BURSTS&granule_ur=S1_SLC_20211111T002557_VH_227663_IW2',\n 'https://cmr.uat.earthdata.nasa.gov/search/granules.umm_json?short_name=S1_SLC_BURSTS&granule_ur=S1_SLC_20211111T002557_VV_227663_IW2']"
     },
     "execution_count": 7,
     "metadata": {},
     "output_type": "execute_result"
    }
   ],
   "source": [
    "ids = [x['meta']['native-id'] for x in catalog['items']]\n",
    "cmr_urls = [f'{catalog_url}&granule_ur={x}' for x in ids]\n",
    "cmr_urls"
   ],
   "metadata": {
    "collapsed": false,
    "pycharm": {
     "name": "#%%\n"
    }
   }
  },
  {
   "cell_type": "code",
   "execution_count": 8,
   "outputs": [],
   "source": [
    "cmr_url = cmr_urls[0]"
   ],
   "metadata": {
    "collapsed": false,
    "pycharm": {
     "name": "#%%\n"
    }
   }
  },
  {
   "cell_type": "code",
   "execution_count": 9,
   "outputs": [],
   "source": [
    "burst_instance = bursts.cmr_to_opera_burst(cmr_url,remote=True)"
   ],
   "metadata": {
    "collapsed": false,
    "pycharm": {
     "name": "#%%\n"
    }
   }
  },
  {
   "cell_type": "code",
   "execution_count": 10,
   "outputs": [
    {
     "data": {
      "text/plain": "RemoteSentinel1BurstSLC(sensing_start=datetime.datetime(2021, 11, 11, 0, 25, 53, 695739), radar_center_frequency=5405000454.33435, wavelength=0.05546576, azimuth_steer_rate=0.027757171601738514, azimuth_time_interval=0.002055556299999998, slant_range_time=0.005333045065152919, starting_range=799403.3443534819, iw2_mid_range=874424.562695774, range_sampling_rate=64345238.12571428, range_pixel_spacing=2.329562114715323, shape=(1488, 20626), azimuth_fm_rate=Poly1d(order= 2, mean=799403, std=1.49896e+08), doppler=Doppler(poly1d=Poly1d(order= 2, mean=799782, std=1.49896e+08), lut2d=<isce3.ext.isce3.core.LUT2d object at 0x10f3e1770>), range_bandwidth=56500000.0, polarization='VH', burst_id='t106_227662_iw1', platform_id='S1B', center=<shapely.geometry.point.Point object at 0x10eea9d20>, border=[[-92.629432, -2.468856], [-92.234605, -2.385305], [-91.868591, -2.307914], [-91.911924, -2.104547], [-92.276925, -2.186245], [-92.670725, -2.274101], [-92.629432, -2.468856]], orbit=<isce3.ext.isce3.core.Orbit object at 0x1905b9c30>, orbit_direction='ASCENDING', tiff_path='', i_burst=0, first_valid_sample=162, last_valid_sample=20589, first_valid_line=18, last_valid_line=1471, range_window_type='Hamming', range_window_coefficient=0.75, rank=9, prf_raw_data=1717.128973878037, range_chirp_rate=1078230321255.894, absolute_id='S1_SLC_20211111T002553_VH_227662_IW1', byte_offset=119355, byte_length=122765952, interior_path='S1B_IW_SLC__1SDV_20211111T002553_20211111T002623_029532_038657_AB46.SAFE/measurement/s1b-iw1-slc-vh-20211111t002553-20211111t002621-029532-038657-001.tiff', url_path='https://datapool.asf.alaska.edu/SLC/SB/S1B_IW_SLC__1SDV_20211111T002553_20211111T002623_029532_038657_AB46.zip')"
     },
     "execution_count": 10,
     "metadata": {},
     "output_type": "execute_result"
    }
   ],
   "source": [
    "burst_instance"
   ],
   "metadata": {
    "collapsed": false,
    "pycharm": {
     "name": "#%%\n"
    }
   }
  },
  {
   "cell_type": "code",
   "execution_count": 11,
   "outputs": [],
   "source": [
    "burst_instance.slc_to_file('./scratch/not_georeferenced.tif',fmt='GTiff')"
   ],
   "metadata": {
    "collapsed": false,
    "pycharm": {
     "name": "#%%\n"
    }
   }
  },
  {
   "cell_type": "code",
   "execution_count": 12,
   "outputs": [
    {
     "name": "stdout",
     "output_type": "stream",
     "text": [
      "Driver: GTiff/GeoTIFF\r\n",
      "Files: ./scratch/not_georeferenced.tif\r\n",
      "Size is 20626, 1488\r\n",
      "Image Structure Metadata:\r\n",
      "  INTERLEAVE=BAND\r\n",
      "Corner Coordinates:\r\n",
      "Upper Left  (    0.0,    0.0)\r\n",
      "Lower Left  (    0.0, 1488.0)\r\n",
      "Upper Right (20626.0,    0.0)\r\n",
      "Lower Right (20626.0, 1488.0)\r\n",
      "Center      (10313.0,  744.0)\r\n",
      "Band 1 Block=20626x1 Type=CFloat32, ColorInterp=Gray\r\n"
     ]
    }
   ],
   "source": [
    "!gdalinfo ./scratch/not_georeferenced.tif"
   ],
   "metadata": {
    "collapsed": false,
    "pycharm": {
     "name": "#%%\n"
    }
   }
  },
  {
   "cell_type": "code",
   "execution_count": 13,
   "outputs": [
    {
     "name": "stdout",
     "output_type": "stream",
     "text": [
      "data downloaded...\n",
      "Chi squared: 0.000023\n",
      "nbands: 1\n",
      "geo-referenced!\n",
      "nBlocks: 5\n",
      "block: 0\n",
      "-92.6933 , 0.0138889 , -2.20062, 0.0138889\n",
      "journal: West limit may be insufficient for global height range\n",
      "journal: East limit may be insufficient for global height range\n",
      "journal: South limit may be insufficient for global height range\n",
      "DEM interpolation Done\n",
      "journal:\n",
      " -- Actual DEM bounds used:\n",
      " -- Top Left: -91.9226 0.0138889\n",
      " -- Bottom Right: -88.7699 -1.66944 \n",
      " -- Spacing: 0.000277778 -0.000277778\n",
      " -- Dimensions: 11351 6061\n",
      "band: 0\n",
      "get data block \n",
      "set output \n",
      "block: 1\n",
      "-92.6932 , 0.0138889 , -2.2911, 0.0138889\n",
      "journal: West limit may be insufficient for global height range\n",
      "journal: East limit may be insufficient for global height range\n",
      "journal: South limit may be insufficient for global height range\n",
      "DEM interpolation Done\n",
      "journal:\n",
      " -- Actual DEM bounds used:\n",
      " -- Top Left: -91.9226 0.0138889\n",
      " -- Bottom Right: -88.7699 -1.66944 \n",
      " -- Spacing: 0.000277778 -0.000277778\n",
      " -- Dimensions: 11351 6061\n",
      "band: 0\n",
      "get data block \n",
      "set output \n",
      "block: 2\n",
      "-92.6932 , 0.0138889 , -2.38157, 0.0138889\n",
      "journal: West limit may be insufficient for global height range\n",
      "journal: East limit may be insufficient for global height range\n",
      "journal: South limit may be insufficient for global height range\n",
      "DEM interpolation Done\n",
      "journal:\n",
      " -- Actual DEM bounds used:\n",
      " -- Top Left: -91.9226 0.0138889\n",
      " -- Bottom Right: -88.7699 -1.66944 \n",
      " -- Spacing: 0.000277778 -0.000277778\n",
      " -- Dimensions: 11351 6061\n",
      "band: 0\n",
      "get data block \n",
      "set output \n",
      "block: 3\n",
      "-92.6932 , 0.0138889 , -2.47204, 0.0138889\n",
      "journal: West limit may be insufficient for global height range\n",
      "journal: East limit may be insufficient for global height range\n",
      "journal: South limit may be insufficient for global height range\n",
      "DEM interpolation Done\n",
      "journal:\n",
      " -- Actual DEM bounds used:\n",
      " -- Top Left: -91.9226 0.0138889\n",
      " -- Bottom Right: -88.7699 -1.66944 \n",
      " -- Spacing: 0.000277778 -0.000277778\n",
      " -- Dimensions: 11351 6061\n",
      "band: 0\n",
      "get data block \n",
      "set output \n",
      "block: 4\n",
      "-92.6932 , 0.0138889 , -2.48488, 0.0138889\n",
      "journal: West limit may be insufficient for global height range\n",
      "journal: East limit may be insufficient for global height range\n",
      "journal: South limit may be insufficient for global height range\n",
      "DEM interpolation Done\n",
      "journal:\n",
      " -- Actual DEM bounds used:\n",
      " -- Top Left: -91.9226 0.0138889\n",
      " -- Bottom Right: -88.7699 -1.66944 \n",
      " -- Spacing: 0.000277778 -0.000277778\n",
      " -- Dimensions: 11351 6061\n",
      "band: 0\n",
      "get data block \n",
      "set output \n"
     ]
    },
    {
     "data": {
      "text/plain": "'./scratch/geo_referenced/t106_227662_iw1_20211111_VH.tif'"
     },
     "execution_count": 13,
     "metadata": {},
     "output_type": "execute_result"
    }
   ],
   "source": [
    "dem_path = './compass_outputs/input_data/dem_galapagos.tif'\n",
    "output_dir = './scratch/geo_referenced'\n",
    "scratch_dir = './scratch/tmp'\n",
    "bursts.georeference_burst(burst_instance,dem_path,output_dir,scratch_dir)"
   ],
   "metadata": {
    "collapsed": false,
    "pycharm": {
     "name": "#%%\n"
    }
   }
  },
  {
   "cell_type": "code",
   "execution_count": 14,
   "outputs": [
    {
     "name": "stdout",
     "output_type": "stream",
     "text": [
      "Driver: GTiff/GeoTIFF\r\n",
      "Files: ./scratch/geo_referenced/t106_227662_iw1_20211111_VH.tif\r\n",
      "Size is 20323, 4142\r\n",
      "Coordinate System is:\r\n",
      "GEOGCRS[\"WGS 84\",\r\n",
      "    DATUM[\"World Geodetic System 1984\",\r\n",
      "        ELLIPSOID[\"WGS 84\",6378137,298.257223563,\r\n",
      "            LENGTHUNIT[\"metre\",1]]],\r\n",
      "    PRIMEM[\"Greenwich\",0,\r\n",
      "        ANGLEUNIT[\"degree\",0.0174532925199433]],\r\n",
      "    CS[ellipsoidal,2],\r\n",
      "        AXIS[\"geodetic latitude (Lat)\",north,\r\n",
      "            ORDER[1],\r\n",
      "            ANGLEUNIT[\"degree\",0.0174532925199433]],\r\n",
      "        AXIS[\"geodetic longitude (Lon)\",east,\r\n",
      "            ORDER[2],\r\n",
      "            ANGLEUNIT[\"degree\",0.0174532925199433]],\r\n",
      "    ID[\"EPSG\",4326]]\r\n",
      "Data axis to CRS axis mapping: 2,1\r\n",
      "Origin = (535653.834328493452631,9768295.004928255453706)\r\n",
      "Pixel Size = (5.000000000000000,-10.000000000000000)\r\n",
      "Metadata:\r\n",
      "  AREA_OR_POINT=Area\r\n",
      "Image Structure Metadata:\r\n",
      "  INTERLEAVE=BAND\r\n",
      "Corner Coordinates:\r\n",
      "Upper Left  (  535653.834, 9768295.005) (Invalid angle,Invalid angle)\r\n",
      "Lower Left  (  535653.834, 9726875.005) (Invalid angle,Invalid angle)\r\n",
      "Upper Right (  637268.834, 9768295.005) (Invalid angle,Invalid angle)\r\n",
      "Lower Right (  637268.834, 9726875.005) (Invalid angle,Invalid angle)\r\n",
      "Center      (  586461.334, 9747585.005) (Invalid angle,Invalid angle)\r\n",
      "Band 1 Block=20323x1 Type=CFloat32, ColorInterp=Gray\r\n"
     ]
    }
   ],
   "source": [
    "!gdalinfo ./scratch/geo_referenced/t106_227662_iw1_20211111_VH.tif"
   ],
   "metadata": {
    "collapsed": false,
    "pycharm": {
     "name": "#%%\n"
    }
   }
  },
  {
   "cell_type": "code",
   "execution_count": null,
   "outputs": [],
   "source": [],
   "metadata": {
    "collapsed": false,
    "pycharm": {
     "name": "#%%\n"
    }
   }
  }
 ],
 "metadata": {
  "kernelspec": {
   "display_name": "Python 3",
   "language": "python",
   "name": "python3"
  },
  "language_info": {
   "codemirror_mode": {
    "name": "ipython",
    "version": 2
   },
   "file_extension": ".py",
   "mimetype": "text/x-python",
   "name": "python",
   "nbconvert_exporter": "python",
   "pygments_lexer": "ipython2",
   "version": "2.7.6"
  }
 },
 "nbformat": 4,
 "nbformat_minor": 0
}