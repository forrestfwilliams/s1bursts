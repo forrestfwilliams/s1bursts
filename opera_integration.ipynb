{
 "cells": [
  {
   "cell_type": "markdown",
   "source": [
    "# Integrating with OPERA's ISCE3 s1-reader"
   ],
   "metadata": {
    "collapsed": false,
    "pycharm": {
     "name": "#%% md\n"
    }
   }
  },
  {
   "cell_type": "markdown",
   "source": [
    "This notebook requires `isce3`, and `s1-reader` to be installed as well as the rest of the packages listed in `requirements.txt`. Install using these commands:\n",
    "```bash\n",
    "conda install -c conda-forge isce3\n",
    "conda install -c conda-forge backoff\n",
    "\n",
    "git clone https://github.com/opera-adt/s1-reader.git\n",
    "python -m pip install -e s1-reader\n",
    "```"
   ],
   "metadata": {
    "collapsed": false,
    "pycharm": {
     "name": "#%% md\n"
    }
   }
  },
  {
   "cell_type": "code",
   "execution_count": 1,
   "metadata": {
    "collapsed": true,
    "pycharm": {
     "name": "#%%\n"
    }
   },
   "outputs": [],
   "source": [
    "%load_ext autoreload\n",
    "%autoreload 2\n",
    "from pathlib import Path\n",
    "import s1reader\n",
    "from s1bursts import utils, metadata, opera"
   ]
  },
  {
   "cell_type": "code",
   "execution_count": 2,
   "outputs": [],
   "source": [
    "zip_path = Path('../example_data/S1B_IW_SLC__1SDV_20210131T151555_20210131T151621_025400_03067B_415D.zip')\n",
    "url_path = 'https://datapool.asf.alaska.edu/SLC/SB/S1B_IW_SLC__1SDV_20210131T151555_20210131T151621_025400_03067B_415D.zip'\n",
    "safe_name = zip_path.with_suffix('.SAFE').name\n",
    "swath_num = 1\n",
    "pol = \"VV\"\n",
    "\n",
    "orbit_dir = Path('../example_data/sentinel1_orbits')\n",
    "if not orbit_dir.is_dir():\n",
    "    orbit_dir.mkdir()"
   ],
   "metadata": {
    "collapsed": false,
    "pycharm": {
     "name": "#%%\n"
    }
   }
  },
  {
   "cell_type": "code",
   "execution_count": 3,
   "outputs": [],
   "source": [
    "s1reader.s1_orbit.download_orbit(safe_name,orbit_dir)"
   ],
   "metadata": {
    "collapsed": false,
    "pycharm": {
     "name": "#%%\n"
    }
   }
  },
  {
   "cell_type": "markdown",
   "source": [
    "## Opera Workflow"
   ],
   "metadata": {
    "collapsed": false,
    "pycharm": {
     "name": "#%% md\n"
    }
   }
  },
  {
   "cell_type": "code",
   "execution_count": 4,
   "outputs": [],
   "source": [
    "orbit_path = s1reader.get_orbit_file_from_dir(zip_path, orbit_dir)"
   ],
   "metadata": {
    "collapsed": false,
    "pycharm": {
     "name": "#%%\n"
    }
   }
  },
  {
   "cell_type": "code",
   "execution_count": 5,
   "outputs": [],
   "source": [
    "# returns the list of the bursts\n",
    "opera_burst_items = s1reader.load_bursts(zip_path, orbit_path, swath_num, pol)\n",
    "opera_burst_ids = [x.burst_id for x in opera_burst_items]\n",
    "opera_burst = opera_burst_items[0]"
   ],
   "metadata": {
    "collapsed": false,
    "pycharm": {
     "name": "#%%\n"
    }
   }
  },
  {
   "cell_type": "code",
   "execution_count": 6,
   "outputs": [
    {
     "data": {
      "text/plain": "Sentinel1BurstSlc(sensing_start=datetime.datetime(2021, 1, 31, 15, 15, 56, 832500), radar_center_frequency=5405000454.33435, wavelength=0.05546576, azimuth_steer_rate=0.027757171601738514, azimuth_time_interval=0.002055556299999998, slant_range_time=0.005354305379666438, starting_range=802590.1853264123, iw2_mid_range=878040.0430978123, range_sampling_rate=64345238.12571428, range_pixel_spacing=2.329562114715323, shape=(1502, 21209), azimuth_fm_rate=Poly1d(order= 2, mean=802590, std=1.49896e+08), doppler=Doppler(poly1d=Poly1d(order= 2, mean=803664, std=1.49896e+08), lut2d=<isce3.ext.isce3.core.LUT2d object at 0x18d8cea70>), range_bandwidth=56500000.0, polarization='VV', burst_id='t174_372322_iw1', platform_id='S1B', center=<shapely.geometry.point.Point object at 0x18a079bd0>, border=[<shapely.geometry.polygon.Polygon object at 0x18a079390>], orbit=<isce3.ext.isce3.core.Orbit object at 0x18d8d5bf0>, orbit_direction='Descending', tiff_path='/vsizip/../example_data/S1B_IW_SLC__1SDV_20210131T151555_20210131T151621_025400_03067B_415D.zip/S1B_IW_SLC__1SDV_20210131T151555_20210131T151621_025400_03067B_415D.SAFE/measurement/s1b-iw1-slc-vv-20210131t151556-20210131t151621-025400-03067b-004.tiff', i_burst=0, first_valid_sample=460, last_valid_sample=20802, first_valid_line=20, last_valid_line=1482, range_window_type='Hamming', range_window_coefficient=0.75, rank=9, prf_raw_data=1717.128973878037, range_chirp_rate=1078230321255.894)"
     },
     "execution_count": 6,
     "metadata": {},
     "output_type": "execute_result"
    }
   ],
   "source": [
    "opera_burst"
   ],
   "metadata": {
    "collapsed": false,
    "pycharm": {
     "name": "#%%\n"
    }
   }
  },
  {
   "cell_type": "code",
   "execution_count": 7,
   "outputs": [],
   "source": [
    "opera_dict = opera_burst.__dict__"
   ],
   "metadata": {
    "collapsed": false,
    "pycharm": {
     "name": "#%%\n"
    }
   }
  },
  {
   "cell_type": "markdown",
   "source": [
    "## Now with ASF package"
   ],
   "metadata": {
    "collapsed": false,
    "pycharm": {
     "name": "#%% md\n"
    }
   }
  },
  {
   "cell_type": "code",
   "execution_count": 8,
   "outputs": [],
   "source": [
    "auth = utils.get_netrc_auth()\n",
    "manifest, annotations = metadata.edl_download_metadata(url_path, auth)"
   ],
   "metadata": {
    "collapsed": false,
    "pycharm": {
     "name": "#%%\n"
    }
   }
  },
  {
   "cell_type": "code",
   "execution_count": 9,
   "outputs": [],
   "source": [
    "slc = metadata.SLCMetadata(url_path, manifest, annotations)\n",
    "swath = metadata.SwathMetadata(slc, pol, swath_index=swath_num - 1)\n",
    "asf_burst_list = [metadata.BurstMetadata(swath, x) for x in range(swath.n_bursts)]\n",
    "asf_burst = asf_burst_list[0]\n",
    "item = asf_burst.to_stac_item()"
   ],
   "metadata": {
    "collapsed": false,
    "pycharm": {
     "name": "#%%\n"
    }
   }
  },
  {
   "cell_type": "code",
   "execution_count": 10,
   "outputs": [],
   "source": [
    "asf_burst = opera.stac_item_to_opera_burst(item,'VV',orbit_dir)"
   ],
   "metadata": {
    "collapsed": false,
    "pycharm": {
     "name": "#%%\n"
    }
   }
  },
  {
   "cell_type": "code",
   "execution_count": 12,
   "outputs": [],
   "source": [
    "asf_dict = asf_burst.__dict__"
   ],
   "metadata": {
    "collapsed": false,
    "pycharm": {
     "name": "#%%\n"
    }
   }
  },
  {
   "cell_type": "code",
   "execution_count": 13,
   "outputs": [
    {
     "data": {
      "text/plain": "['i_burst']"
     },
     "execution_count": 13,
     "metadata": {},
     "output_type": "execute_result"
    }
   ],
   "source": [
    "[x for x in asf_dict if not opera_dict[x]]"
   ],
   "metadata": {
    "collapsed": false,
    "pycharm": {
     "name": "#%%\n"
    }
   }
  },
  {
   "cell_type": "code",
   "execution_count": 14,
   "outputs": [
    {
     "data": {
      "text/plain": "[]"
     },
     "execution_count": 14,
     "metadata": {},
     "output_type": "execute_result"
    }
   ],
   "source": [
    "[x for x in asf_dict if type(asf_dict[x]) != type(opera_dict[x])]"
   ],
   "metadata": {
    "collapsed": false,
    "pycharm": {
     "name": "#%%\n"
    }
   }
  },
  {
   "cell_type": "code",
   "execution_count": 15,
   "outputs": [
    {
     "data": {
      "text/plain": "[]"
     },
     "execution_count": 15,
     "metadata": {},
     "output_type": "execute_result"
    }
   ],
   "source": [
    "# attributes in oks don't work correctly when comparing with ==\n",
    "oks = ['azimuth_fm_rate','doppler','orbit', 'center', 'border','tiff_path']\n",
    "\n",
    "[x for x in asf_dict if (asf_dict[x] != opera_dict[x]) & (x not in oks)]"
   ],
   "metadata": {
    "collapsed": false,
    "pycharm": {
     "name": "#%%\n"
    }
   }
  },
  {
   "cell_type": "markdown",
   "source": [
    "Tada! Check out the `example.ipynb` to see how we can download a burst's data directly using the information contained in a burst STAC item."
   ],
   "metadata": {
    "collapsed": false,
    "pycharm": {
     "name": "#%% md\n"
    }
   }
  },
  {
   "cell_type": "markdown",
   "source": [
    "## Download data with RemoteSentinel1BurstSLC class"
   ],
   "metadata": {
    "collapsed": false,
    "pycharm": {
     "name": "#%% md\n"
    }
   }
  },
  {
   "cell_type": "code",
   "execution_count": 21,
   "outputs": [],
   "source": [
    "asf_burst = opera.stac_item_to_opera_burst(item,'VV',orbit_dir, remote=True)"
   ],
   "metadata": {
    "collapsed": false,
    "pycharm": {
     "name": "#%%\n"
    }
   }
  },
  {
   "cell_type": "code",
   "execution_count": 22,
   "outputs": [
    {
     "data": {
      "text/plain": "('',\n 'https://datapool.asf.alaska.edu/SLC/SB/S1B_IW_SLC__1SDV_20210131T151555_20210131T151621_025400_03067B_415D.zip')"
     },
     "execution_count": 22,
     "metadata": {},
     "output_type": "execute_result"
    }
   ],
   "source": [
    "asf_burst.tiff_path, asf_burst.url_path"
   ],
   "metadata": {
    "collapsed": false,
    "pycharm": {
     "name": "#%%\n"
    }
   }
  },
  {
   "cell_type": "code",
   "execution_count": 23,
   "outputs": [
    {
     "data": {
      "text/plain": "(1502, 21209)"
     },
     "execution_count": 23,
     "metadata": {},
     "output_type": "execute_result"
    }
   ],
   "source": [
    "# download into memory\n",
    "array = asf_burst.edl_download_data()\n",
    "array.shape"
   ],
   "metadata": {
    "collapsed": false,
    "pycharm": {
     "name": "#%%\n"
    }
   }
  },
  {
   "cell_type": "code",
   "execution_count": 24,
   "outputs": [],
   "source": [
    "# download to file\n",
    "asf_burst.slc_to_file('./test.bin', fmt='ENVI')"
   ],
   "metadata": {
    "collapsed": false,
    "pycharm": {
     "name": "#%%\n"
    }
   }
  },
  {
   "cell_type": "code",
   "execution_count": 25,
   "outputs": [
    {
     "data": {
      "text/plain": "'./test.bin'"
     },
     "execution_count": 25,
     "metadata": {},
     "output_type": "execute_result"
    }
   ],
   "source": [
    "asf_burst.tiff_path"
   ],
   "metadata": {
    "collapsed": false,
    "pycharm": {
     "name": "#%%\n"
    }
   }
  },
  {
   "cell_type": "code",
   "execution_count": 26,
   "outputs": [
    {
     "name": "stdout",
     "output_type": "stream",
     "text": [
      "Driver: ENVI/ENVI .hdr Labelled\r\n",
      "Files: test.bin\r\n",
      "       test.hdr\r\n",
      "Size is 21209, 1502\r\n",
      "Image Structure Metadata:\r\n",
      "  INTERLEAVE=BAND\r\n",
      "Corner Coordinates:\r\n",
      "Upper Left  (    0.0,    0.0)\r\n",
      "Lower Left  (    0.0, 1502.0)\r\n",
      "Upper Right (21209.0,    0.0)\r\n",
      "Lower Right (21209.0, 1502.0)\r\n",
      "Center      (10604.5,  751.0)\r\n",
      "Band 1 Block=21209x1 Type=CFloat32, ColorInterp=Undefined\r\n"
     ]
    }
   ],
   "source": [
    "!gdalinfo test.bin"
   ],
   "metadata": {
    "collapsed": false,
    "pycharm": {
     "name": "#%%\n"
    }
   }
  },
  {
   "cell_type": "code",
   "execution_count": null,
   "outputs": [],
   "source": [],
   "metadata": {
    "collapsed": false,
    "pycharm": {
     "name": "#%%\n"
    }
   }
  }
 ],
 "metadata": {
  "kernelspec": {
   "display_name": "Python 3",
   "language": "python",
   "name": "python3"
  },
  "language_info": {
   "codemirror_mode": {
    "name": "ipython",
    "version": 2
   },
   "file_extension": ".py",
   "mimetype": "text/x-python",
   "name": "python",
   "nbconvert_exporter": "python",
   "pygments_lexer": "ipython2",
   "version": "2.7.6"
  }
 },
 "nbformat": 4,
 "nbformat_minor": 0
}